{
 "cells": [
  {
   "cell_type": "code",
   "execution_count": 6,
   "id": "d4454a99",
   "metadata": {},
   "outputs": [
    {
     "name": "stdout",
     "output_type": "stream",
     "text": [
      "the give data:\n",
      "A [[1, 1], [5, 1], [5, 10]]\n",
      "B [[1, 20], [6, 70], [7, 20]]\n",
      "C [[21, 20], [25, 54], [30, 21]]\n",
      "{15: 'A', 19: 'A', 20: 'A', 34: 'B', 79: 'B', 28: 'B', 16: 'C', 44: 'C', 24: 'C'}\n",
      "A\n"
     ]
    }
   ],
   "source": [
    "from statistics import mode\n",
    "t={\"A\":[[1,1],[5,1],[5,10]],\"B\":[[1,20],[6,70],[7,20]],\"C\":[[21,20],[25,54],[30,21]]}\n",
    "print(\"the give data:\")\n",
    "for class_,list_ in t.items():\n",
    "    print(class_,list_)\n",
    "r={}\n",
    "y=[22,7]\n",
    "k=3\n",
    "for class_,list_ in t.items():\n",
    "    for x in list_:\n",
    "        r.update({abs(x[1]-x[0])+abs(y[1]-y[0]):class_})\n",
    "print(r)\n",
    "r1=sorted(r.items())\n",
    "r1=dict(r1[:k])\n",
    "l=list(r1.values())\n",
    "print(mode(l))"
   ]
  },
  {
   "cell_type": "code",
   "execution_count": null,
   "id": "7c763923",
   "metadata": {},
   "outputs": [],
   "source": []
  },
  {
   "cell_type": "code",
   "execution_count": 1,
   "id": "601e906e",
   "metadata": {},
   "outputs": [],
   "source": [
    "from statistics import mode"
   ]
  },
  {
   "cell_type": "code",
   "execution_count": 3,
   "id": "4a714b17",
   "metadata": {},
   "outputs": [
    {
     "name": "stdout",
     "output_type": "stream",
     "text": [
      "E [31, 32, 36, 40]\n",
      "F [41, 45, 49, 50]\n",
      "G [51, 54, 58, 60]\n"
     ]
    }
   ],
   "source": [
    "t1={\"E\":[31,32,36,40],\"F\":[41,45,49,50],\"G\":[51,54,58,60]}\n",
    "for class_,list_ in t1.items():\n",
    "    print(class_,list_)"
   ]
  },
  {
   "cell_type": "code",
   "execution_count": 5,
   "id": "05217ba3",
   "metadata": {},
   "outputs": [
    {
     "data": {
      "text/plain": [
       "{22: 'E',\n",
       " 21: 'E',\n",
       " 17: 'E',\n",
       " 13: 'E',\n",
       " 12: 'F',\n",
       " 8: 'F',\n",
       " 4: 'F',\n",
       " 3: 'F',\n",
       " 2: 'G',\n",
       " 1: 'G',\n",
       " 5: 'G',\n",
       " 7: 'G'}"
      ]
     },
     "execution_count": 5,
     "metadata": {},
     "output_type": "execute_result"
    }
   ],
   "source": [
    "res={}\n",
    "y=53\n",
    "k=5\n",
    "for class_,list_ in t1.items():\n",
    "    for x in list_:\n",
    "        res.update({abs(y-x):class_})\n",
    "res"
   ]
  },
  {
   "cell_type": "code",
   "execution_count": 7,
   "id": "b044683c",
   "metadata": {},
   "outputs": [
    {
     "data": {
      "text/plain": [
       "{1: 'G', 2: 'G', 3: 'F', 4: 'F', 5: 'G'}"
      ]
     },
     "execution_count": 7,
     "metadata": {},
     "output_type": "execute_result"
    }
   ],
   "source": [
    "res1=sorted(res.items())\n",
    "res1=dict(res1[:k])\n",
    "res1"
   ]
  },
  {
   "cell_type": "code",
   "execution_count": 9,
   "id": "22aa832a",
   "metadata": {},
   "outputs": [
    {
     "data": {
      "text/plain": [
       "dict_values(['G', 'G', 'F', 'F', 'G'])"
      ]
     },
     "execution_count": 9,
     "metadata": {},
     "output_type": "execute_result"
    }
   ],
   "source": [
    "l=res1.values()\n",
    "l"
   ]
  },
  {
   "cell_type": "code",
   "execution_count": 10,
   "id": "6ccd363e",
   "metadata": {},
   "outputs": [
    {
     "name": "stdout",
     "output_type": "stream",
     "text": [
      "G\n"
     ]
    }
   ],
   "source": [
    "print(mode(l))"
   ]
  },
  {
   "cell_type": "code",
   "execution_count": null,
   "id": "b3abff68",
   "metadata": {},
   "outputs": [],
   "source": []
  }
 ],
 "metadata": {
  "kernelspec": {
   "display_name": "Python 3 (ipykernel)",
   "language": "python",
   "name": "python3"
  },
  "language_info": {
   "codemirror_mode": {
    "name": "ipython",
    "version": 3
   },
   "file_extension": ".py",
   "mimetype": "text/x-python",
   "name": "python",
   "nbconvert_exporter": "python",
   "pygments_lexer": "ipython3",
   "version": "3.11.4"
  }
 },
 "nbformat": 4,
 "nbformat_minor": 5
}
